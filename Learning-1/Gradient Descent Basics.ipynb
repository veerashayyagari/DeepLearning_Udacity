{
 "cells": [
  {
   "cell_type": "code",
   "execution_count": 6,
   "metadata": {
    "collapsed": false
   },
   "outputs": [
    {
     "name": "stdout",
     "output_type": "stream",
     "text": [
      "0.699162782946\n"
     ]
    }
   ],
   "source": [
    "\n",
    "import numpy as np\n",
    "\n",
    "\n",
    "num_input_nodes = 2\n",
    "num_output_nodes = 1\n",
    "\n",
    "input_nodes = np.random.seed(42)\n",
    "input_nodes = np.random.random_sample(num_input_nodes,)\n",
    "input_weights = np.random.random_sample(num_input_nodes,)\n",
    "\n",
    "\n",
    "def sigmoid(x):\n",
    "    return 1/(1 + np.exp(-x))\n",
    "\n",
    "print(sigmoid(np.dot(input_nodes,input_weights)))"
   ]
  },
  {
   "cell_type": "code",
   "execution_count": 2,
   "metadata": {
    "collapsed": false
   },
   "outputs": [
    {
     "name": "stdout",
     "output_type": "stream",
     "text": [
      "Input to activation function -> 0.07\n",
      "Neural Network Output -> 0.517492857666\n",
      "Error in Prediction -0.317492857666\n",
      "Error term -> -0.0792760615801\n",
      "Weights to Adjust -> [-0.0039638  -0.01189141]\n"
     ]
    }
   ],
   "source": [
    "import numpy as np\n",
    "\n",
    "input_nodes = np.array([0.1,0.3])\n",
    "input_weights = np.array([-0.8,0.5])\n",
    "y = 0.2\n",
    "learnrate = 0.5\n",
    "\n",
    "def sigmoid(x):\n",
    "    return 1/(1 + np.exp(-x))\n",
    "\n",
    "def sigmoid_prime(x):\n",
    "    return sigmoid(x) * (1 - sigmoid(x))\n",
    "\n",
    "h = np.dot(input_weights,input_nodes)\n",
    "print('Input to activation function ->',h)\n",
    "\n",
    "output = sigmoid(h)\n",
    "print('Neural Network Output ->',output)\n",
    "\n",
    "error = y - output\n",
    "print('Error in Prediction',error)\n",
    "\n",
    "error_term = error*sigmoid_prime(h)\n",
    "print('Error term ->',error_term)\n",
    "\n",
    "delta_w = learnrate*error_term*input_nodes\n",
    "print('Weights to Adjust ->',delta_w)\n",
    "\n"
   ]
  },
  {
   "cell_type": "code",
   "execution_count": null,
   "metadata": {
    "collapsed": true
   },
   "outputs": [],
   "source": []
  }
 ],
 "metadata": {
  "anaconda-cloud": {},
  "kernelspec": {
   "display_name": "Python [conda env:DLSC]",
   "language": "python",
   "name": "conda-env-DLSC-py"
  },
  "language_info": {
   "codemirror_mode": {
    "name": "ipython",
    "version": 3
   },
   "file_extension": ".py",
   "mimetype": "text/x-python",
   "name": "python",
   "nbconvert_exporter": "python",
   "pygments_lexer": "ipython3",
   "version": "3.6.0"
  }
 },
 "nbformat": 4,
 "nbformat_minor": 1
}
