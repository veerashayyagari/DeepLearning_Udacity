{
 "cells": [
  {
   "cell_type": "code",
   "execution_count": 1,
   "metadata": {
    "collapsed": false
   },
   "outputs": [
    {
     "name": "stdout",
     "output_type": "stream",
     "text": [
      "[ 0.55941126  0.45321216]\n"
     ]
    }
   ],
   "source": [
    "import numpy as np\n",
    "import pandas as pd\n",
    "\n",
    "N_input = 4\n",
    "N_hidden = 3\n",
    "N_output = 2\n",
    "\n",
    "np.random.seed(42)\n",
    "\n",
    "input_nodes = np.random.randn(N_input)\n",
    "weights_input_hidden = np.random.normal(scale=1/N_input**0.5,size=(N_input,N_hidden))\n",
    "weights_hidden_output = np.random.normal(scale=1/N_hidden**0.5,size=(N_hidden,N_output))\n",
    "\n",
    "def sigmoid(x):\n",
    "    return 1/(1 + np.exp(-x))\n",
    "\n",
    "hidden_layer_h = np.dot(input_nodes,weights_input_hidden)\n",
    "hidden_layer_output = sigmoid(hidden_layer_h)\n",
    "\n",
    "output_layer_h =  np.dot(hidden_layer_output,weights_hidden_output)\n",
    "output = sigmoid(output_layer_h)\n",
    "\n",
    "print(output)\n",
    "\n"
   ]
  },
  {
   "cell_type": "code",
   "execution_count": 16,
   "metadata": {
    "collapsed": false
   },
   "outputs": [
    {
     "name": "stdout",
     "output_type": "stream",
     "text": [
      "('shape of Input ->', (3, 1))\n",
      "('shape of input hidden weights', (2, 3))\n",
      "('hidden output', array([[ 0.93328468],\n",
      "       [ 0.1738586 ]]))\n",
      "('shape of hidden output', (2, 1))\n",
      "('Network output', array([[ 0.58153921]]))\n",
      "('Error ->', array([[ 0.01846079]]))\n",
      "('Error Term ->', array([[ 0.00449246]]))\n",
      "('Error Term Shape', (1, 1))\n",
      "('Delta Weights Hidden Output', array([[ 0.00209637,  0.00039053]]))\n",
      "('Scaled Error Term', array([[  3.75427169e-05],\n",
      "       [  7.56511388e-04]]))\n",
      "('Delta Weights Input Hidden', array([[  3.17179807e-05,  -2.92203798e-05,  -1.91565268e-05],\n",
      "       [  6.39138974e-04,  -5.88810611e-04,  -3.86017100e-04]]))\n",
      "('New Weights Input Hidden', array([[ 0.46281051, -0.16812993, -1.56260105],\n",
      "       [ 0.03773577,  0.77893127,  0.39918343]]))\n",
      "('New Weights hidden output', array([[ 0.13631162,  1.17280395]]))\n"
     ]
    }
   ],
   "source": [
    "\n",
    "# Back propogation\n",
    "\n",
    "import numpy as np\n",
    "\n",
    "def sigmoid(x):\n",
    "    return 1/(1 + np.exp(-x))\n",
    "\n",
    "N_input = 3\n",
    "N_hidden = 2\n",
    "N_output = 1\n",
    "\n",
    "target = np.array([0.6],ndmin=2).T\n",
    "learnrate = 0.5\n",
    "\n",
    "input_nodes = np.array(np.random.randn(N_input),ndmin=2).T\n",
    "weights_input_hidden = np.random.normal(scale=1/N_input**0.5,size=(N_hidden,N_input))\n",
    "weights_hidden_output = np.random.normal(scale=1/N_hidden**0.5,size=(N_output,N_hidden))\n",
    "\n",
    "print('shape of Input ->',input_nodes.shape)\n",
    "print('shape of input hidden weights',weights_input_hidden.shape)\n",
    "\n",
    "input_hidden_h = np.dot(weights_input_hidden,input_nodes)\n",
    "hidden_output = sigmoid(input_hidden_h)\n",
    "\n",
    "print('hidden output',hidden_output)\n",
    "print('shape of hidden output',hidden_output.shape)\n",
    "\n",
    "hidden_output_h = np.dot(weights_hidden_output,hidden_output)\n",
    "output = sigmoid(hidden_output_h)\n",
    "\n",
    "print('Network output',output)\n",
    "\n",
    "error = target - output\n",
    "print('Error ->',error)\n",
    "\n",
    "error_term = error*output*(1 - output)\n",
    "print('Error Term ->',error_term)\n",
    "print('Error Term Shape',error_term.shape)\n",
    "\n",
    "del_w_hidden_output = learnrate*error_term*hidden_output.T\n",
    "print('Delta Weights Hidden Output',del_w_hidden_output)\n",
    "\n",
    "\n",
    "scaled_error_term = np.dot(weights_hidden_output.T,error_term)*hidden_output*(1 - hidden_output)\n",
    "print('Scaled Error Term',scaled_error_term)\n",
    "\n",
    "del_w_input_hidden = learnrate*scaled_error_term*input_nodes.T\n",
    "print('Delta Weights Input Hidden',del_w_input_hidden)\n",
    "\n",
    "weights_input_hidden += del_w_input_hidden\n",
    "print(\"New Weights Input Hidden\",weights_input_hidden)\n",
    "\n",
    "weights_hidden_output += del_w_hidden_output\n",
    "print('New Weights hidden output', weights_hidden_output)\n",
    "\n",
    "\n",
    "\n",
    "\n",
    "\n",
    "\n"
   ]
  },
  {
   "cell_type": "code",
   "execution_count": null,
   "metadata": {
    "collapsed": true
   },
   "outputs": [],
   "source": []
  }
 ],
 "metadata": {
  "anaconda-cloud": {},
  "kernelspec": {
   "display_name": "Python [conda env:DAND]",
   "language": "python",
   "name": "conda-env-DAND-py"
  },
  "language_info": {
   "codemirror_mode": {
    "name": "ipython",
    "version": 2
   },
   "file_extension": ".py",
   "mimetype": "text/x-python",
   "name": "python",
   "nbconvert_exporter": "python",
   "pygments_lexer": "ipython2",
   "version": "2.7.12"
  }
 },
 "nbformat": 4,
 "nbformat_minor": 1
}
