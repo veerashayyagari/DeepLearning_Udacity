{
 "cells": [
  {
   "cell_type": "code",
   "execution_count": 20,
   "metadata": {
    "collapsed": false
   },
   "outputs": [
    {
     "name": "stdout",
     "output_type": "stream",
     "text": [
      "b'Hello World'\n"
     ]
    }
   ],
   "source": [
    "import tensorflow as tf\n",
    "\n",
    "hello_constant = tf.constant('Hello World')\n",
    "\n",
    "with tf.Session() as sess:\n",
    "    output = sess.run(hello_constant)\n",
    "    print(output)"
   ]
  },
  {
   "cell_type": "code",
   "execution_count": 21,
   "metadata": {
    "collapsed": false
   },
   "outputs": [
    {
     "name": "stdout",
     "output_type": "stream",
     "text": [
      "123\n"
     ]
    }
   ],
   "source": [
    "import tensorflow as tf\n",
    "\n",
    "x = tf.placeholder(tf.int32)\n",
    "with tf.Session() as sess:\n",
    "    output = sess.run(x,feed_dict={x:123})\n",
    "    print(output)"
   ]
  },
  {
   "cell_type": "code",
   "execution_count": 22,
   "metadata": {
    "collapsed": true
   },
   "outputs": [],
   "source": [
    "import tensorflow as tf\n",
    "from tensorflow.examples.tutorials.mnist import input_data\n",
    "\n",
    "def get_weights(n_features,n_labels):\n",
    "    return tf.Variable(tf.truncated_normal((n_features,n_labels)))\n",
    "\n",
    "def get_bias(n_labels):\n",
    "    return tf.Variable(tf.zeros(n_labels))\n",
    "\n",
    "def linear(input,weights,bias):\n",
    "    return tf.add(tf.matmul(input,weights),bias)\n",
    "\n",
    "def softmax(logits):\n",
    "    return tf.nn.softmax(logits)\n",
    "\n",
    "def cross_entropy(softmax_data,onehot_data):\n",
    "    return -tf.reduce_sum(tf.multiply(onehot_data,tf.log(softmax_data)))"
   ]
  },
  {
   "cell_type": "code",
   "execution_count": 23,
   "metadata": {
    "collapsed": false
   },
   "outputs": [
    {
     "data": {
      "text/plain": [
       "array([[1, 0, 0, 0, 0],\n",
       "       [0, 0, 1, 0, 0],\n",
       "       [0, 0, 0, 0, 1],\n",
       "       [0, 1, 0, 0, 0],\n",
       "       [0, 0, 0, 0, 1],\n",
       "       [0, 0, 0, 1, 0],\n",
       "       [0, 1, 0, 0, 0],\n",
       "       [1, 0, 0, 0, 0]])"
      ]
     },
     "execution_count": 23,
     "metadata": {},
     "output_type": "execute_result"
    }
   ],
   "source": [
    "# one hot encoding\n",
    "import numpy as np\n",
    "from sklearn import preprocessing\n",
    "\n",
    "labels = np.array([1,3,5,2,5,4,2,1])\n",
    "\n",
    "# create the encoder\n",
    "lb = preprocessing.LabelBinarizer()\n",
    "\n",
    "# encoder assigns one hot vectors identifying the classes\n",
    "lb.fit(labels)\n",
    "\n",
    "#now transform the labels to one hot encoded vectors\n",
    "lb.transform(labels)"
   ]
  },
  {
   "cell_type": "code",
   "execution_count": 24,
   "metadata": {
    "collapsed": false
   },
   "outputs": [
    {
     "name": "stdout",
     "output_type": "stream",
     "text": [
      "Successfully downloaded train-images-idx3-ubyte.gz 9912422 bytes.\n",
      "Extracting ./train-images-idx3-ubyte.gz\n",
      "Successfully downloaded train-labels-idx1-ubyte.gz 28881 bytes.\n",
      "Extracting ./train-labels-idx1-ubyte.gz\n",
      "Successfully downloaded t10k-images-idx3-ubyte.gz 1648877 bytes.\n",
      "Extracting ./t10k-images-idx3-ubyte.gz\n",
      "Successfully downloaded t10k-labels-idx1-ubyte.gz 4542 bytes.\n",
      "Extracting ./t10k-labels-idx1-ubyte.gz\n"
     ]
    }
   ],
   "source": [
    "# End to End Example - Multi Layer perceptron\n",
    "\n",
    "import tensorflow as tf\n",
    "from tensorflow.examples.tutorials.mnist import input_data\n",
    "mnist = input_data.read_data_sets(\".\",one_hot=True,reshape=False)"
   ]
  },
  {
   "cell_type": "code",
   "execution_count": 25,
   "metadata": {
    "collapsed": true
   },
   "outputs": [],
   "source": [
    "#Hyper Parameters\n",
    "learning_rate = 0.001\n",
    "training_epochs = 20\n",
    "batch_size = 128\n",
    "display_step = 1"
   ]
  },
  {
   "cell_type": "code",
   "execution_count": 26,
   "metadata": {
    "collapsed": true
   },
   "outputs": [],
   "source": [
    "# parameters\n",
    "n_input = 784 # MNIST data shape (28*28)\n",
    "n_classes = 10 # MNIST total classes (0 - 9 digits)\n",
    "n_hidden_layer = 256 \n",
    "\n",
    "#store weights and bias based on these features\n",
    "weights = {\n",
    "    'hidden_layer': tf.Variable(tf.random_normal([n_input,n_hidden_layer])),\n",
    "    'out': tf.Variable(tf.random_normal([n_hidden_layer,n_classes]))\n",
    "}\n",
    "\n",
    "biases = {\n",
    "    'hidden_layer':tf.Variable(tf.random_normal([n_hidden_layer])),\n",
    "    'out': tf.Variable(tf.random_normal([n_classes]))\n",
    "}\n",
    "\n",
    "x = tf.placeholder(\"float\",[None,28,28,1])\n",
    "y = tf.placeholder(\"float\",[None,n_classes])\n",
    "\n",
    "x_flat = tf.reshape(x,[-1,n_input])"
   ]
  },
  {
   "cell_type": "code",
   "execution_count": 27,
   "metadata": {
    "collapsed": true
   },
   "outputs": [],
   "source": [
    "# LAYER 1\n",
    "\n",
    "layer_1 = tf.add(tf.matmul(x_flat,weights['hidden_layer']),biases['hidden_layer'])\n",
    "layer_1 = tf.nn.relu(layer_1)"
   ]
  },
  {
   "cell_type": "code",
   "execution_count": 28,
   "metadata": {
    "collapsed": true
   },
   "outputs": [],
   "source": [
    "logits = tf.add(tf.matmul(layer_1,weights['out']),biases['out'])"
   ]
  },
  {
   "cell_type": "code",
   "execution_count": 29,
   "metadata": {
    "collapsed": true
   },
   "outputs": [],
   "source": [
    "# COST\n",
    "cost = tf.reduce_mean(tf.nn.softmax_cross_entropy_with_logits(logits=logits,labels=y))\n",
    "optimizer = tf.train.GradientDescentOptimizer(learning_rate=learning_rate).minimize(cost)\n",
    "init = tf.global_variables_initializer()"
   ]
  },
  {
   "cell_type": "code",
   "execution_count": 30,
   "metadata": {
    "collapsed": false
   },
   "outputs": [
    {
     "name": "stdout",
     "output_type": "stream",
     "text": [
      "Epoch: 0001 cost = 27.935173035\n",
      "Epoch: 0002 cost = 27.197441101\n",
      "Epoch: 0003 cost = 17.031856537\n",
      "Epoch: 0004 cost = 17.138370514\n",
      "Epoch: 0005 cost = 14.787343025\n",
      "Epoch: 0006 cost = 10.038428307\n",
      "Epoch: 0007 cost = 6.959255695\n",
      "Epoch: 0008 cost = 8.772510529\n",
      "Epoch: 0009 cost = 5.915369987\n",
      "Epoch: 0010 cost = 8.625632286\n",
      "Epoch: 0011 cost = 10.340231895\n",
      "Epoch: 0012 cost = 6.502536297\n",
      "Epoch: 0013 cost = 6.002425194\n",
      "Epoch: 0014 cost = 7.900905132\n",
      "Epoch: 0015 cost = 3.563545704\n",
      "Epoch: 0016 cost = 8.056486130\n",
      "Epoch: 0017 cost = 7.595901489\n",
      "Epoch: 0018 cost = 9.435205460\n",
      "Epoch: 0019 cost = 9.981029510\n",
      "Epoch: 0020 cost = 6.898581505\n",
      "Optimization Finished!\n",
      "Accuracy: 0.8125\n"
     ]
    }
   ],
   "source": [
    "\n",
    "\n",
    "with tf.Session() as session:\n",
    "    session.run(init)\n",
    "    for epoch in range(training_epochs):\n",
    "        total_batch = int(mnist.train.num_examples/batch_size)\n",
    "        \n",
    "        for i in range(total_batch):\n",
    "            batch_x,batch_y = mnist.train.next_batch(batch_size)\n",
    "            session.run(optimizer,feed_dict={x:batch_x,y:batch_y})\n",
    "            \n",
    "        if epoch%display_step == 0:\n",
    "            c = session.run(cost,feed_dict={x:batch_x,y:batch_y})\n",
    "            print(\"Epoch:\",'%04d' % (epoch+1),\"cost =\",\"{:.9f}\".format(c))\n",
    "            \n",
    "    print(\"Optimization Finished!\")        \n",
    "    \n",
    "    # Testing Model\n",
    "    correct_prediction = tf.equal(tf.argmax(logits,1),tf.argmax(y,1))\n",
    "\n",
    "    accuracy = tf.reduce_mean(tf.cast(correct_prediction,\"float\"))\n",
    "\n",
    "    test_size = 256\n",
    "    print(\"Accuracy:\",accuracy.eval({x:mnist.test.images[:test_size],y:mnist.test.labels[:test_size]}))"
   ]
  },
  {
   "cell_type": "code",
   "execution_count": null,
   "metadata": {
    "collapsed": true
   },
   "outputs": [],
   "source": []
  }
 ],
 "metadata": {
  "kernelspec": {
   "display_name": "Python 3",
   "language": "python",
   "name": "python3"
  },
  "language_info": {
   "codemirror_mode": {
    "name": "ipython",
    "version": 3
   },
   "file_extension": ".py",
   "mimetype": "text/x-python",
   "name": "python",
   "nbconvert_exporter": "python",
   "pygments_lexer": "ipython3",
   "version": "3.5.3"
  }
 },
 "nbformat": 4,
 "nbformat_minor": 2
}
