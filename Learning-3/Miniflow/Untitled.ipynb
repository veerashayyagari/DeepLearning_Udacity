{
 "cells": [
  {
   "cell_type": "code",
   "execution_count": 1,
   "metadata": {
    "collapsed": true
   },
   "outputs": [],
   "source": [
    "import numpy as np\n",
    "\n",
    "class Node:\n",
    "    def __init__(self,inbound_nodes=[]):\n",
    "        self.inbound_nodes = inbound_nodes\n",
    "        self.outbound_nodes = []\n",
    "        self.value = None\n",
    "        for n in self.inbound_nodes:\n",
    "            n.outbound_nodes.append(self)\n",
    "            \n",
    "    def forward(self):\n",
    "        raise NotImplemented"
   ]
  },
  {
   "cell_type": "code",
   "execution_count": 2,
   "metadata": {
    "collapsed": true
   },
   "outputs": [],
   "source": [
    "class Input(Node):\n",
    "    def __init__(self):\n",
    "        Node.__init__(self)\n",
    "        \n",
    "    def forward(self,value=None):\n",
    "        if value is not None:\n",
    "            self.value = value"
   ]
  },
  {
   "cell_type": "code",
   "execution_count": 3,
   "metadata": {
    "collapsed": true
   },
   "outputs": [],
   "source": [
    "class Add(Node):\n",
    "    def __init__(self,*inputs):\n",
    "        Node.__init__(self,inputs)\n",
    "        \n",
    "    def forward(self):\n",
    "        self.value = sum([n.value for n in self.inbound_nodes])"
   ]
  },
  {
   "cell_type": "code",
   "execution_count": 9,
   "metadata": {
    "collapsed": true
   },
   "outputs": [],
   "source": [
    "class Linear(Node):\n",
    "    def __init__(self,inputs,weights,bias):\n",
    "        Node.__init__(self,[inputs,weights,bias])\n",
    "        \n",
    "    def forward(self):\n",
    "        np_inputs = self.inbound_nodes[0].value\n",
    "        np_weights = self.inbound_nodes[1].value\n",
    "        bias = self.inbound_nodes[2].value\n",
    "        self.value = np_inputs.dot(np_weights) + bias"
   ]
  },
  {
   "cell_type": "code",
   "execution_count": 30,
   "metadata": {
    "collapsed": true
   },
   "outputs": [],
   "source": [
    "class MSE(Node):\n",
    "    def __init__(self,y,a):\n",
    "        Node.__init__(self,[y,a])\n",
    "        \n",
    "    def forward(self):\n",
    "        actual_output = self.inbound_nodes[0].value.reshape(-1,1)\n",
    "        prediction = self.inbound_nodes[1].value.reshape(-1,1)\n",
    "        num_output = np.shape(prediction)[0]\n",
    "        squared_error = sum(np.square(actual_output - prediction))\n",
    "        self.value = squared_error/float(num_output)"
   ]
  },
  {
   "cell_type": "code",
   "execution_count": 22,
   "metadata": {
    "collapsed": true
   },
   "outputs": [],
   "source": [
    "class Sigmoid(Node):\n",
    "    def __init__(self,x):\n",
    "        Node.__init__(self,[x])\n",
    "        \n",
    "    def _sigmoid(self,x):\n",
    "        return 1/(1 + np.exp(-x))\n",
    "        \n",
    "    def forward(self):\n",
    "        self.value = self._sigmoid(self.inbound_nodes[0].value)"
   ]
  },
  {
   "cell_type": "code",
   "execution_count": 19,
   "metadata": {
    "collapsed": true
   },
   "outputs": [],
   "source": [
    "def topological_sort(feed_dict):\n",
    "    G = {}\n",
    "    input_nodes = [n for n in feed_dict.keys()]\n",
    "    nodes = [n for n in input_nodes]\n",
    "    \n",
    "    while len(nodes) > 0:\n",
    "        n = nodes.pop(0)\n",
    "        if n not in G:\n",
    "            G[n] = {'in':set(),'out':set()}\n",
    "        for m in n.outbound_nodes:\n",
    "            if m not in G:\n",
    "                G[m] = {'in':set(),'out':set()}\n",
    "            G[n]['out'].add(m)\n",
    "            G[m]['in'].add(n)\n",
    "            nodes.append(m)\n",
    "    \n",
    "    L = []\n",
    "    S = set(input_nodes)\n",
    "    while len(S) > 0:\n",
    "        n = S.pop()\n",
    "        \n",
    "        if isinstance(n,Input):\n",
    "            n.value = feed_dict[n]\n",
    "        \n",
    "        L.append(n)\n",
    "        for m in n.outbound_nodes:\n",
    "            G[m]['in'].remove(n)\n",
    "            G[n]['out'].remove(m)\n",
    "            \n",
    "            if len(G[m]['in']) == 0:\n",
    "                S.add(m)\n",
    "    \n",
    "    return L\n",
    "            "
   ]
  },
  {
   "cell_type": "code",
   "execution_count": 20,
   "metadata": {
    "collapsed": true
   },
   "outputs": [],
   "source": [
    "def forward_pass(output_node,sorted_nodes):\n",
    "    for node in sorted_nodes:\n",
    "        node.forward()\n",
    "    \n",
    "    return output_node.value"
   ]
  },
  {
   "cell_type": "code",
   "execution_count": 6,
   "metadata": {
    "collapsed": false
   },
   "outputs": [
    {
     "name": "stdout",
     "output_type": "stream",
     "text": [
      "6\n"
     ]
    }
   ],
   "source": [
    "x,y,z = Input(),Input(),Input()\n",
    "\n",
    "f = Add(x,y,z)\n",
    "\n",
    "feed_dict = {x:1,y:2,z:3}\n",
    "\n",
    "sorted_nodes = topological_sort(feed_dict)\n",
    "\n",
    "output = forward_pass(f,sorted_nodes)\n",
    "\n",
    "print(output)"
   ]
  },
  {
   "cell_type": "code",
   "execution_count": 28,
   "metadata": {
    "collapsed": false
   },
   "outputs": [
    {
     "name": "stdout",
     "output_type": "stream",
     "text": [
      "[[  1.23394576e-04   9.82013790e-01]\n",
      " [  1.23394576e-04   9.82013790e-01]]\n"
     ]
    }
   ],
   "source": [
    "inputs,weights,bias = Input(),Input(),Input()\n",
    "\n",
    "f = Linear(inputs,weights,bias)\n",
    "\n",
    "g = Sigmoid(f)\n",
    "\n",
    "feed_dict = {\n",
    "    inputs:np.array([[-1,-2],[-1,-2]]),\n",
    "    weights:np.array([[2,-3],[2,-3]]),\n",
    "    bias:np.array([-3,-5])\n",
    "}\n",
    "\n",
    "sorted_nodes = topological_sort(feed_dict)\n",
    "\n",
    "output = forward_pass(g,sorted_nodes)\n",
    "\n",
    "print(output)"
   ]
  },
  {
   "cell_type": "code",
   "execution_count": 32,
   "metadata": {
    "collapsed": false
   },
   "outputs": [
    {
     "data": {
      "text/plain": [
       "array([ 23.41666667])"
      ]
     },
     "execution_count": 32,
     "metadata": {},
     "output_type": "execute_result"
    }
   ],
   "source": [
    "y,a = Input(),Input()\n",
    "cost = MSE(y,a)\n",
    "\n",
    "y_ = np.array([1, 2, 3])\n",
    "a_ = np.array([4.5, 5, 10])\n",
    "\n",
    "feed_dict = {y: y_, a: a_}\n",
    "graph = topological_sort(feed_dict)\n",
    "# forward pass\n",
    "forward_pass(cost,graph)\n"
   ]
  },
  {
   "cell_type": "code",
   "execution_count": null,
   "metadata": {
    "collapsed": true
   },
   "outputs": [],
   "source": []
  }
 ],
 "metadata": {
  "kernelspec": {
   "display_name": "Python 3",
   "language": "python",
   "name": "python3"
  },
  "language_info": {
   "codemirror_mode": {
    "name": "ipython",
    "version": 3
   },
   "file_extension": ".py",
   "mimetype": "text/x-python",
   "name": "python",
   "nbconvert_exporter": "python",
   "pygments_lexer": "ipython3",
   "version": "3.5.3"
  }
 },
 "nbformat": 4,
 "nbformat_minor": 2
}
