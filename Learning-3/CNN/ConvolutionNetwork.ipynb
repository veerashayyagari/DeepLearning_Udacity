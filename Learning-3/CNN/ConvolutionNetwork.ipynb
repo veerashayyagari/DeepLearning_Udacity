{
 "cells": [
  {
   "cell_type": "code",
   "execution_count": 4,
   "metadata": {
    "collapsed": false
   },
   "outputs": [
    {
     "name": "stdout",
     "output_type": "stream",
     "text": [
      "Extracting ./train-images-idx3-ubyte.gz\n",
      "Extracting ./train-labels-idx1-ubyte.gz\n",
      "Extracting ./t10k-images-idx3-ubyte.gz\n",
      "Extracting ./t10k-labels-idx1-ubyte.gz\n"
     ]
    }
   ],
   "source": [
    "import tensorflow as tf\n",
    "from tensorflow.examples.tutorials.mnist import input_data\n",
    "mnist = input_data.read_data_sets(\".\",one_hot=True,reshape=False)"
   ]
  },
  {
   "cell_type": "code",
   "execution_count": 6,
   "metadata": {
    "collapsed": true
   },
   "outputs": [],
   "source": [
    "# Basic CNN\n",
    "\n",
    "# 1. Output Depth\n",
    "k_output = 64\n",
    "\n",
    "# 2. Input Image Properties\n",
    "image_width = 10\n",
    "image_height = 10\n",
    "color_channels = 3\n",
    "\n",
    "# 3. Filter Size Properties\n",
    "filter_width = 5\n",
    "filter_height = 5\n",
    "\n",
    "# 4. Input Image\n",
    "input = tf.placeholder(tf.float32,shape=[None,image_height,image_width,color_channels])\n",
    "\n",
    "# 5. Weight and Bias\n",
    "weight = tf.Variable(tf.truncated_normal([filter_height,filter_width,color_channels,k_output]))\n",
    "\n",
    "#bias = tf.Variable(tf.truncated_normal([k_output]))\n",
    "bias = tf.Variable(tf.zeros([k_output]))\n",
    "\n",
    "# 6. Convolution Layer\n",
    "\n",
    "#Apply convolution\n",
    "conv_layer = tf.nn.conv2d(input,weight,strides=[1,2,2,1],padding='SAME')\n",
    "\n",
    "# Add Bias\n",
    "conv_layer = tf.nn.bias_add(conv_layer,bias)\n",
    "\n",
    "# Apply activation function\n",
    "conv_layer = tf.nn.relu(conv_layer)\n"
   ]
  },
  {
   "cell_type": "code",
   "execution_count": 7,
   "metadata": {
    "collapsed": true
   },
   "outputs": [],
   "source": [
    "# 7. Apply Max Pooling on this conv layer\n",
    "conv_layer = tf.nn.max_pool(conv_layer,ksize=[1,2,2,1],strides=[1,2,2,1],padding='SAME')\n"
   ]
  },
  {
   "cell_type": "code",
   "execution_count": null,
   "metadata": {
    "collapsed": true
   },
   "outputs": [],
   "source": [
    "# CNN in TENSOR FLOW - EXAMPLE"
   ]
  },
  {
   "cell_type": "code",
   "execution_count": 8,
   "metadata": {
    "collapsed": false
   },
   "outputs": [
    {
     "name": "stdout",
     "output_type": "stream",
     "text": [
      "Extracting ./train-images-idx3-ubyte.gz\n",
      "Extracting ./train-labels-idx1-ubyte.gz\n",
      "Extracting ./t10k-images-idx3-ubyte.gz\n",
      "Extracting ./t10k-labels-idx1-ubyte.gz\n"
     ]
    }
   ],
   "source": [
    "import tensorflow as tf\n",
    "from tensorflow.examples.tutorials.mnist import input_data\n",
    "mnist = input_data.read_data_sets(\".\",one_hot=True,reshape=False)"
   ]
  },
  {
   "cell_type": "code",
   "execution_count": 9,
   "metadata": {
    "collapsed": true
   },
   "outputs": [],
   "source": [
    "# HYPER PARAMETERS\n",
    "learning_rate = 0.0001\n",
    "epochs = 10\n",
    "batch_size = 128\n",
    "\n",
    "#Number of samples to calculate validation and accuracy\n",
    "test_valid_size = 256\n",
    "\n",
    "#network parameters\n",
    "n_out_classes = 10 # MNIST total classes (0 - 9)\n",
    "dropout = 0.75 # Dropout, Probability to keep units"
   ]
  },
  {
   "cell_type": "code",
   "execution_count": 11,
   "metadata": {
    "collapsed": false
   },
   "outputs": [],
   "source": [
    "weights = {\n",
    "    'wcnn1':tf.Variable(tf.truncated_normal([5,5,1,32])),\n",
    "    'wcnn2':tf.Variable(tf.truncated_normal([5,5,32,64])),\n",
    "    'wd1':tf.Variable(tf.truncated_normal([7*7*64,1024])),\n",
    "    'out':tf.Variable(tf.truncated_normal([1024,n_out_classes]))\n",
    "}\n",
    "\n",
    "bias = {\n",
    "    'bnn1': tf.Variable(tf.truncated_normal([32])),\n",
    "    'bnn2': tf.Variable(tf.truncated_normal([64])),\n",
    "    'bd1' : tf.Variable(tf.truncated_normal([1024])),\n",
    "    'out' : tf.Variable(tf.truncated_normal([n_out_classes]))\n",
    "}"
   ]
  },
  {
   "cell_type": "code",
   "execution_count": 12,
   "metadata": {
    "collapsed": true
   },
   "outputs": [],
   "source": [
    "def conv2d(inputs,weights,bias,strides=1):\n",
    "    nw = tf.nn.conv2d(inputs,weights,strides=[1,strides,strides,1],padding='SAME')\n",
    "    nw = tf.nn.bias_add(nw,bias)\n",
    "    return tf.nn.relu(nw)\n",
    "\n",
    "def maxpool2d(conv_nw,k=2):\n",
    "    return tf.nn.max_pool(conv_nw,ksize=[1,k,k,1],strides=[1,k,k,1],padding='SAME')\n",
    "\n",
    "def conv_net(inputs,weights,biases,dropout):\n",
    "    # conv layer 1 - 28*28*1 -> 14*14*32\n",
    "    nw = conv2d(inputs,weights['wcnn1'],bias['bnn1'])\n",
    "    nw = maxpool2d(nw)\n",
    "    \n",
    "    # conv layer 2 - 14*14*32 -> 7*7*64\n",
    "    nw = conv2d(nw,weights['wcnn2'],bias['bnn2'])\n",
    "    nw = maxpool2d(nw)\n",
    "    \n",
    "    # Fully connected layer - 7*7*64 -> 1*1024\n",
    "    fc1 = tf.reshape(nw,[-1,weights['wd1'].get_shape().as_list()[0]])\n",
    "    fc1 = tf.add(tf.matmul(fc1,weights['wd1']),bias['bd1'])\n",
    "    fc1 = tf.nn.relu(fc1)\n",
    "    fc1 = tf.nn.dropout(fc1,dropout)\n",
    "    \n",
    "    #Output Layer\n",
    "    out = tf.add(tf.matmul(fc1,weights['out']),bias['out'])\n",
    "    return out"
   ]
  },
  {
   "cell_type": "code",
   "execution_count": 13,
   "metadata": {
    "collapsed": true
   },
   "outputs": [],
   "source": [
    "# tf graph input\n",
    "x = tf.placeholder(tf.float32,[None,28,28,1])\n",
    "y = tf.placeholder(tf.float32,[None,n_out_classes])\n",
    "keep_prob = tf.placeholder(tf.float32)\n",
    "\n",
    "# model\n",
    "logits = conv_net(x,weights,bias,keep_prob)\n",
    "\n",
    "#cost - defining loss\n",
    "cost = tf.reduce_mean(tf.nn.softmax_cross_entropy_with_logits(logits=logits,labels=y))\n",
    "\n",
    "# optimizer\n",
    "optimizer = tf.train.GradientDescentOptimizer(learning_rate=learning_rate).minimize(cost)\n",
    "\n",
    "# accuracy\n",
    "correct_pred = tf.equal(tf.argmax(logits,1),tf.argmax(y,1))\n",
    "accuracy = tf.reduce_mean(tf.cast(correct_pred,tf.float32))\n",
    "\n",
    "#initialize variable\n",
    "init = tf.global_variables_initializer()"
   ]
  },
  {
   "cell_type": "code",
   "execution_count": null,
   "metadata": {
    "collapsed": false
   },
   "outputs": [],
   "source": [
    "with tf.Session() as session:\n",
    "    session.run(init)\n",
    "    \n",
    "    for epoch in range(epochs):\n",
    "        for batch in range(mnist.train.num_examples//batch_size):\n",
    "            batch_x,batch_y = mnist.train.next_batch(batch_size)\n",
    "            session.run(optimizer,feed_dict={x:batch_x,y:batch_y,keep_prob:dropout})\n",
    "            \n",
    "            # calculate batch loss and accuracy\n",
    "            loss = session.run(cost,feed_dict={x:batch_x,y:batch_y,keep_prob:1.})\n",
    "            valid_acc = session.run(accuracy,feed_dict={\n",
    "                x:mnist.validation.images[:test_valid_size],\n",
    "                y:mnist.validation.labels[:test_valid_size],\n",
    "                keep_prob : 1.\n",
    "            })\n",
    "            \n",
    "        print(\"Epoch {:>2}, Loss {:>10.4f} Validation Accuracy {:.6f}\".format(epoch+1,loss,valid_acc))\n",
    "            \n",
    "    test_acc = session.run(accuracy,feed_dict={\n",
    "        x: mnist.test.images[:test_valid_size],\n",
    "        y: mnist.test.labels[:test_valid_size],\n",
    "        keep_prob : 1.\n",
    "    })\n",
    "    \n",
    "    print('Testing Accuracy:',test_acc)"
   ]
  },
  {
   "cell_type": "code",
   "execution_count": 13,
   "metadata": {
    "collapsed": false
   },
   "outputs": [],
   "source": [
    "import numpy as np\n",
    "from sklearn.preprocessing import LabelBinarizer\n",
    "encoding_map = {}\n",
    "def one_hot_encode(x):\n",
    "    \"\"\"\n",
    "    One hot encode a list of sample labels. Return a one-hot encoded vector for each label.\n",
    "    : x: List of sample Labels\n",
    "    : return: Numpy array of one-hot encoded labels\n",
    "    \"\"\"   \n",
    "    if bool(encoding_map) is False: \n",
    "        encoder = LabelBinarizer()\n",
    "        encoder.fit(x)\n",
    "        encoded_labels = encoder.transform(x)\n",
    "        for label,enc_label in list(zip(x,encoded_labels)):\n",
    "            encoding_map[label] = enc_label\n",
    "        return encoded_labels.astype(np.float32)\n",
    "    else:\n",
    "        encoded_labels = []\n",
    "        for label in x:\n",
    "            encoded_labels.append(encoding_map[label])\n",
    "        return np.array(encoded_labels).astype(np.float32)"
   ]
  },
  {
   "cell_type": "code",
   "execution_count": 14,
   "metadata": {
    "collapsed": false
   },
   "outputs": [
    {
     "name": "stdout",
     "output_type": "stream",
     "text": [
      "[0, 8, 2, 7, 7]\n",
      "[[ 1.  0.  0.  0.  0.  0.  0.  0.  0.  0.]\n",
      " [ 0.  0.  0.  0.  0.  0.  0.  0.  1.  0.]\n",
      " [ 0.  0.  1.  0.  0.  0.  0.  0.  0.  0.]\n",
      " [ 0.  0.  0.  0.  0.  0.  0.  1.  0.  0.]\n",
      " [ 0.  0.  0.  0.  0.  0.  0.  1.  0.  0.]]\n",
      "[[ 1.  0.  0.  0.  0.  0.  0.  0.  0.  0.]\n",
      " [ 0.  0.  0.  0.  0.  0.  0.  0.  1.  0.]\n",
      " [ 0.  0.  1.  0.  0.  0.  0.  0.  0.  0.]\n",
      " [ 0.  0.  0.  0.  0.  0.  0.  1.  0.  0.]\n",
      " [ 0.  0.  0.  0.  0.  0.  0.  1.  0.  0.]]\n"
     ]
    }
   ],
   "source": [
    "test_shape = np.random.choice(range(1000))\n",
    "n_encode_tests = 5\n",
    "test_numbers = np.random.choice(range(10), test_shape)\n",
    "one_hot_out = one_hot_encode(test_numbers)\n",
    "test_pairs = list(zip(test_numbers, one_hot_out))\n",
    "test_indices = np.random.choice(len(test_numbers), n_encode_tests)\n",
    "labels = [test_pairs[test_i][0] for test_i in test_indices]\n",
    "enc_labels = np.array([test_pairs[test_i][1] for test_i in test_indices])\n",
    "print(labels)\n",
    "new_enc_labels = one_hot_encode(labels)\n",
    "print(enc_labels)\n",
    "print(new_enc_labels)"
   ]
  },
  {
   "cell_type": "code",
   "execution_count": null,
   "metadata": {
    "collapsed": true
   },
   "outputs": [],
   "source": []
  }
 ],
 "metadata": {
  "anaconda-cloud": {},
  "kernelspec": {
   "display_name": "Python [default]",
   "language": "python",
   "name": "python3"
  },
  "language_info": {
   "codemirror_mode": {
    "name": "ipython",
    "version": 3
   },
   "file_extension": ".py",
   "mimetype": "text/x-python",
   "name": "python",
   "nbconvert_exporter": "python",
   "pygments_lexer": "ipython3",
   "version": "3.5.2"
  }
 },
 "nbformat": 4,
 "nbformat_minor": 2
}
